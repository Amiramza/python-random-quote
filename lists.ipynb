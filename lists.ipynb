{
 "cells": [
  {
   "cell_type": "code",
   "execution_count": 72,
   "id": "5a012552",
   "metadata": {},
   "outputs": [],
   "source": [
    "list=[1,2,3,4,5,6,7,8,9,\"my\",\"name\",\"is\",\"ameer\",\"hamza\",True,False,[1,2,\"ayan\",True]]\n",
    "list.append(['x','y',54]) #append a list to another list(way-1)\n",
    "a=['x','y',54]\n",
    "list.append(a)            #append a list to another list(way-2)"
   ]
  },
  {
   "cell_type": "code",
   "execution_count": 73,
   "id": "2cdcf3fc",
   "metadata": {},
   "outputs": [
    {
     "name": "stdout",
     "output_type": "stream",
     "text": [
      "[1, 2, 3, 4, 5, 6, 7, 8, 9, 'my', 'name', 'is', 'ameer', 'hamza', True, False, [1, 2, 'ayan', True], ['x', 'y', 54], ['x', 'y', 54]]\n"
     ]
    }
   ],
   "source": [
    "print(list)"
   ]
  },
  {
   "cell_type": "code",
   "execution_count": 74,
   "id": "65379aa3",
   "metadata": {},
   "outputs": [
    {
     "data": {
      "text/plain": [
       "2"
      ]
     },
     "execution_count": 74,
     "metadata": {},
     "output_type": "execute_result"
    }
   ],
   "source": [
    "list.count(True)\n"
   ]
  },
  {
   "cell_type": "code",
   "execution_count": 75,
   "id": "bb5ff416",
   "metadata": {},
   "outputs": [
    {
     "data": {
      "text/plain": [
       "2"
      ]
     },
     "execution_count": 75,
     "metadata": {},
     "output_type": "execute_result"
    }
   ],
   "source": [
    "list.count(['x','y',54])#count no of elements in a list"
   ]
  },
  {
   "cell_type": "code",
   "execution_count": 76,
   "id": "1e2ad224",
   "metadata": {},
   "outputs": [
    {
     "name": "stdout",
     "output_type": "stream",
     "text": [
      "[1, 2, 3, 4, 5, 6, 7, 8, 9, 'my', 'name', 'is', 'ameer', 'hamza', True, False, [1, 2, 'ayan', True], ['x', 'y', 54], ['x', 'y', 54]]\n"
     ]
    }
   ],
   "source": [
    "copylist=list.copy() #create a copy of list and store in some other variable\n",
    "print(copylist)"
   ]
  },
  {
   "cell_type": "code",
   "execution_count": 77,
   "id": "3f3c95be",
   "metadata": {},
   "outputs": [
    {
     "name": "stdout",
     "output_type": "stream",
     "text": [
      "[1, 2, 3, 4, 5, 6, 7, 8, 9, 'my', 'name', 'is', 'ameer', 'hamza', True, False, [1, 2, 'ayan', True], ['x', 'y', 54], ['x', 'y', 54]]\n"
     ]
    }
   ],
   "source": [
    "print(list)\n",
    "#list.remove(\"[999999]\")"
   ]
  },
  {
   "cell_type": "code",
   "execution_count": 78,
   "id": "dc5e28d3",
   "metadata": {},
   "outputs": [
    {
     "name": "stdout",
     "output_type": "stream",
     "text": [
      "[1, 2, 3, 4, 5, 6, 7, 8, 9, 'my', 'name', 'is', 'ameer', 'hamza', True, False, [1, 2, 'ayan', True], ['x', 'y', 54], ['x', 'y', 54], '[', '9', '9', '9', '9', '9', '9', ']', 999999]\n"
     ]
    }
   ],
   "source": [
    "list.extend(\"[999999]\") #appends elements of a list(strictly -string is considered as a list of characters) to the end of another list\n",
    "#list.extend(True) #error extend works only with lists\n",
    "list.extend([999999])\n",
    "print(list)"
   ]
  },
  {
   "cell_type": "code",
   "execution_count": 79,
   "id": "7130efae",
   "metadata": {},
   "outputs": [
    {
     "name": "stdout",
     "output_type": "stream",
     "text": [
      "[1, 2, 3, 4, 5, 6, 7, 8, 9, 'my', 'name', 'is', 'ameer', 'hamza', True, False, [1, 2, 'ayan', True], ['x', 'y', 54], ['x', 'y', 54], '[', '9', '9', '9', '9', '9', '9', ']', 999999, 10, 8]\n"
     ]
    }
   ],
   "source": [
    "list.extend([10,8])\n",
    "print(list)"
   ]
  },
  {
   "cell_type": "code",
   "execution_count": 80,
   "id": "4a8ec7d5",
   "metadata": {},
   "outputs": [],
   "source": [
    "list[16].remove(\"ayan\") #removes the string ayan from the sublist(index location 16)"
   ]
  },
  {
   "cell_type": "code",
   "execution_count": 81,
   "id": "05ad2629",
   "metadata": {},
   "outputs": [
    {
     "name": "stdout",
     "output_type": "stream",
     "text": [
      "[1, 2, 3, 4, 5, 6, 7, 8, 9, 'my', 'name', 'is', 'ameer', 'hamza', True, False, [1, 2, True], ['x', 'y', 54], ['x', 'y', 54], '[', '9', '9', '9', '9', '9', '9', ']', 999999, 10, 8]\n"
     ]
    }
   ],
   "source": [
    "print(list)"
   ]
  },
  {
   "cell_type": "code",
   "execution_count": 82,
   "id": "f65203d9",
   "metadata": {},
   "outputs": [
    {
     "data": {
      "text/plain": [
       "13"
      ]
     },
     "execution_count": 82,
     "metadata": {},
     "output_type": "execute_result"
    }
   ],
   "source": [
    "list.index('hamza')"
   ]
  },
  {
   "cell_type": "code",
   "execution_count": 83,
   "id": "75072d6a",
   "metadata": {},
   "outputs": [
    {
     "data": {
      "text/plain": [
       "16"
      ]
     },
     "execution_count": 83,
     "metadata": {},
     "output_type": "execute_result"
    }
   ],
   "source": [
    "list.index( [1, 2, True])"
   ]
  },
  {
   "cell_type": "code",
   "execution_count": 84,
   "id": "0932516c",
   "metadata": {},
   "outputs": [
    {
     "data": {
      "text/plain": [
       "17"
      ]
     },
     "execution_count": 84,
     "metadata": {},
     "output_type": "execute_result"
    }
   ],
   "source": [
    "list.index(['x', 'y', 54]) # gives first location(index) of the appearance"
   ]
  },
  {
   "cell_type": "code",
   "execution_count": 85,
   "id": "44dd54cf",
   "metadata": {},
   "outputs": [
    {
     "data": {
      "text/plain": [
       "15"
      ]
     },
     "execution_count": 85,
     "metadata": {},
     "output_type": "execute_result"
    }
   ],
   "source": [
    "list.index(False)"
   ]
  },
  {
   "cell_type": "code",
   "execution_count": 86,
   "id": "ae20edcd",
   "metadata": {},
   "outputs": [],
   "source": [
    "list.insert(0,\"Inserted\") #insert(index of insertion,data to be inserted)-inserts the text \"inserted\" at index 0"
   ]
  },
  {
   "cell_type": "code",
   "execution_count": 87,
   "id": "50d37a40",
   "metadata": {},
   "outputs": [
    {
     "name": "stdout",
     "output_type": "stream",
     "text": [
      "['Inserted', 1, 2, 3, 4, 5, 6, 7, 8, 9, 'my', 'name', 'is', 'ameer', 'hamza', True, False, [1, 2, True], ['x', 'y', 54], ['x', 'y', 54], '[', '9', '9', '9', '9', '9', '9', ']', 999999, 10, 8]\n"
     ]
    }
   ],
   "source": [
    "print(list)"
   ]
  },
  {
   "cell_type": "code",
   "execution_count": 88,
   "id": "f40f7b9a",
   "metadata": {},
   "outputs": [
    {
     "data": {
      "text/plain": [
       "8"
      ]
     },
     "execution_count": 88,
     "metadata": {},
     "output_type": "execute_result"
    }
   ],
   "source": [
    "list.pop() # removes the last element from the list"
   ]
  },
  {
   "cell_type": "code",
   "execution_count": 89,
   "id": "50a7ca61",
   "metadata": {},
   "outputs": [
    {
     "data": {
      "text/plain": [
       "10"
      ]
     },
     "execution_count": 89,
     "metadata": {},
     "output_type": "execute_result"
    }
   ],
   "source": [
    "list.pop()"
   ]
  },
  {
   "cell_type": "code",
   "execution_count": 90,
   "id": "f6cfe051",
   "metadata": {},
   "outputs": [
    {
     "name": "stdout",
     "output_type": "stream",
     "text": [
      "['Inserted', 1, 2, 3, 4, 5, 6, 7, 8, 9, 'my', 'name', 'is', 'ameer', 'hamza', True, False, [1, 2, True], ['x', 'y', 54], ['x', 'y', 54], '[', '9', '9', '9', '9', '9', '9', ']', 999999]\n"
     ]
    }
   ],
   "source": [
    "print(list)"
   ]
  },
  {
   "cell_type": "code",
   "execution_count": 91,
   "id": "011b1bd2",
   "metadata": {},
   "outputs": [
    {
     "name": "stdout",
     "output_type": "stream",
     "text": [
      "[0, 1, 2, 3, 4, 5, 6, 7, 8, 9]\n"
     ]
    }
   ],
   "source": [
    "intlist=[1,9,0,5,3,8,6,4,7,2]\n",
    "intlist.sort()\n",
    "print(intlist)"
   ]
  },
  {
   "cell_type": "code",
   "execution_count": 92,
   "id": "150b12ad",
   "metadata": {},
   "outputs": [],
   "source": [
    "intlist.sort(reverse=True) # changes the original list and returns nothing"
   ]
  },
  {
   "cell_type": "code",
   "execution_count": 93,
   "id": "6340b148",
   "metadata": {},
   "outputs": [
    {
     "name": "stdout",
     "output_type": "stream",
     "text": [
      "[9, 8, 7, 6, 5, 4, 3, 2, 1, 0]\n"
     ]
    }
   ],
   "source": [
    "print(intlist)"
   ]
  },
  {
   "cell_type": "code",
   "execution_count": 94,
   "id": "6b713b8e",
   "metadata": {},
   "outputs": [
    {
     "data": {
      "text/plain": [
       "[0, 1, 2, 3, 4, 5, 6, 7, 8, 9]"
      ]
     },
     "execution_count": 94,
     "metadata": {},
     "output_type": "execute_result"
    }
   ],
   "source": [
    "sorted(intlist) #RETURNS THE SORTED FORM OF LIST ,DOES NOT CHANGE THE ORIGINAL LIST(obvious from cells no 93,94 and 95)"
   ]
  },
  {
   "cell_type": "code",
   "execution_count": 95,
   "id": "8f2b9881",
   "metadata": {},
   "outputs": [
    {
     "name": "stdout",
     "output_type": "stream",
     "text": [
      "[9, 8, 7, 6, 5, 4, 3, 2, 1, 0]\n"
     ]
    }
   ],
   "source": [
    "print(intlist)"
   ]
  },
  {
   "cell_type": "code",
   "execution_count": 103,
   "id": "eeca95f0",
   "metadata": {},
   "outputs": [
    {
     "data": {
      "text/plain": [
       "list"
      ]
     },
     "execution_count": 103,
     "metadata": {},
     "output_type": "execute_result"
    }
   ],
   "source": [
    "type(list)"
   ]
  },
  {
   "cell_type": "code",
   "execution_count": 117,
   "id": "3e7928d5",
   "metadata": {},
   "outputs": [],
   "source": [
    "list.reverse()"
   ]
  },
  {
   "cell_type": "code",
   "execution_count": 118,
   "id": "990cad96",
   "metadata": {},
   "outputs": [
    {
     "name": "stdout",
     "output_type": "stream",
     "text": [
      "[999999, ']', '9', '9', '9', '9', '9', '9', '[', ['x', 'y', 54], ['x', 'y', 54], [1, 2, True], False, True, 'hamza', 'ameer', 'is', 'name', 'my', 9, 8, 7, 6, 5, 4, 3, 2, 1, 'Inserted']\n"
     ]
    }
   ],
   "source": [
    "print(list)"
   ]
  },
  {
   "cell_type": "code",
   "execution_count": 120,
   "id": "19ec98ab",
   "metadata": {},
   "outputs": [
    {
     "data": {
      "text/plain": [
       "29"
      ]
     },
     "execution_count": 120,
     "metadata": {},
     "output_type": "execute_result"
    }
   ],
   "source": [
    "len(list)"
   ]
  },
  {
   "cell_type": "code",
   "execution_count": 121,
   "id": "6741986f",
   "metadata": {},
   "outputs": [
    {
     "data": {
      "text/plain": [
       "10"
      ]
     },
     "execution_count": 121,
     "metadata": {},
     "output_type": "execute_result"
    }
   ],
   "source": [
    "len(intlist)"
   ]
  },
  {
   "cell_type": "code",
   "execution_count": 122,
   "id": "e48fe5aa",
   "metadata": {},
   "outputs": [],
   "source": [
    "intlist.clear() #removes all elements"
   ]
  },
  {
   "cell_type": "code",
   "execution_count": 123,
   "id": "cc43b26e",
   "metadata": {},
   "outputs": [
    {
     "data": {
      "text/plain": [
       "0"
      ]
     },
     "execution_count": 123,
     "metadata": {},
     "output_type": "execute_result"
    }
   ],
   "source": [
    "len(intlist)"
   ]
  },
  {
   "cell_type": "code",
   "execution_count": null,
   "id": "69f09887",
   "metadata": {},
   "outputs": [],
   "source": []
  }
 ],
 "metadata": {
  "kernelspec": {
   "display_name": "Python 3 (ipykernel)",
   "language": "python",
   "name": "python3"
  },
  "language_info": {
   "codemirror_mode": {
    "name": "ipython",
    "version": 3
   },
   "file_extension": ".py",
   "mimetype": "text/x-python",
   "name": "python",
   "nbconvert_exporter": "python",
   "pygments_lexer": "ipython3",
   "version": "3.9.7"
  }
 },
 "nbformat": 4,
 "nbformat_minor": 5
}
